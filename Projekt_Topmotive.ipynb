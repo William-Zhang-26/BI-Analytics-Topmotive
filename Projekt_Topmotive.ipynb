{
 "cells": [
  {
   "attachments": {},
   "cell_type": "markdown",
   "metadata": {},
   "source": [
    "#BI Projekt - Topmotive"
   ]
  },
  {
   "cell_type": "markdown",
   "metadata": {},
   "source": [
    "##Zugriff auf die Daten:"
   ]
  },
  {
   "cell_type": "code",
   "execution_count": 1,
   "metadata": {},
   "outputs": [],
   "source": [
    "import pandas as pd"
   ]
  },
  {
   "cell_type": "code",
   "execution_count": 2,
   "metadata": {},
   "outputs": [
    {
     "data": {
      "text/html": [
       "<div>\n",
       "<style scoped>\n",
       "    .dataframe tbody tr th:only-of-type {\n",
       "        vertical-align: middle;\n",
       "    }\n",
       "\n",
       "    .dataframe tbody tr th {\n",
       "        vertical-align: top;\n",
       "    }\n",
       "\n",
       "    .dataframe thead th {\n",
       "        text-align: right;\n",
       "    }\n",
       "</style>\n",
       "<table border=\"1\" class=\"dataframe\">\n",
       "  <thead>\n",
       "    <tr style=\"text-align: right;\">\n",
       "      <th></th>\n",
       "      <th>LocalID</th>\n",
       "      <th>AWArt</th>\n",
       "      <th>AWArt_Bez</th>\n",
       "      <th>VKPreis</th>\n",
       "      <th>VKPreis_Brutto</th>\n",
       "      <th>EKPreis</th>\n",
       "      <th>AWMinuten</th>\n",
       "      <th>c_date</th>\n",
       "    </tr>\n",
       "  </thead>\n",
       "  <tbody>\n",
       "    <tr>\n",
       "      <th>0</th>\n",
       "      <td>0007BD7B-6934-4893-B971-CCA4857B1789</td>\n",
       "      <td>EL</td>\n",
       "      <td>Elektrikarbeiten</td>\n",
       "      <td>12,40</td>\n",
       "      <td>14,76</td>\n",
       "      <td>6,80</td>\n",
       "      <td>6,00</td>\n",
       "      <td>01.07.2023 11:29:12</td>\n",
       "    </tr>\n",
       "    <tr>\n",
       "      <th>1</th>\n",
       "      <td>0007BD7B-6934-4893-B971-CCA4857B1789</td>\n",
       "      <td>KA</td>\n",
       "      <td>Karosseriearbeiten</td>\n",
       "      <td>13,00</td>\n",
       "      <td>15,47</td>\n",
       "      <td>6,80</td>\n",
       "      <td>6,00</td>\n",
       "      <td>01.07.2023 11:29:12</td>\n",
       "    </tr>\n",
       "    <tr>\n",
       "      <th>2</th>\n",
       "      <td>0007BD7B-6934-4893-B971-CCA4857B1789</td>\n",
       "      <td>LA</td>\n",
       "      <td>Lackierarbeiten</td>\n",
       "      <td>13,00</td>\n",
       "      <td>15,47</td>\n",
       "      <td>6,80</td>\n",
       "      <td>6,00</td>\n",
       "      <td>01.07.2023 11:29:12</td>\n",
       "    </tr>\n",
       "    <tr>\n",
       "      <th>3</th>\n",
       "      <td>0007BD7B-6934-4893-B971-CCA4857B1789</td>\n",
       "      <td>NaN</td>\n",
       "      <td>Verrechnungssatz Autohaus Zorn</td>\n",
       "      <td>85,71</td>\n",
       "      <td>102,00</td>\n",
       "      <td>6,90</td>\n",
       "      <td>6,00</td>\n",
       "      <td>01.07.2023 11:29:12</td>\n",
       "    </tr>\n",
       "    <tr>\n",
       "      <th>4</th>\n",
       "      <td>0007BD7B-6934-4893-B971-CCA4857B1789</td>\n",
       "      <td>WS</td>\n",
       "      <td>Werkstattarbeiten</td>\n",
       "      <td>10,30</td>\n",
       "      <td>12,26</td>\n",
       "      <td>6,30</td>\n",
       "      <td>6,00</td>\n",
       "      <td>01.07.2023 11:29:12</td>\n",
       "    </tr>\n",
       "    <tr>\n",
       "      <th>...</th>\n",
       "      <td>...</td>\n",
       "      <td>...</td>\n",
       "      <td>...</td>\n",
       "      <td>...</td>\n",
       "      <td>...</td>\n",
       "      <td>...</td>\n",
       "      <td>...</td>\n",
       "      <td>...</td>\n",
       "    </tr>\n",
       "    <tr>\n",
       "      <th>12059</th>\n",
       "      <td>FFD3E762-C6F5-4E9E-B5F2-5DE4B1B6D5D7</td>\n",
       "      <td>VL</td>\n",
       "      <td>Versicherung Lack</td>\n",
       "      <td>165,50</td>\n",
       "      <td>196,95</td>\n",
       "      <td>165,50</td>\n",
       "      <td>60,00</td>\n",
       "      <td>01.08.2023 05:59:20</td>\n",
       "    </tr>\n",
       "    <tr>\n",
       "      <th>12060</th>\n",
       "      <td>FFD3E762-C6F5-4E9E-B5F2-5DE4B1B6D5D7</td>\n",
       "      <td>VM</td>\n",
       "      <td>Versicherung Mechanik</td>\n",
       "      <td>135,50</td>\n",
       "      <td>161,25</td>\n",
       "      <td>135,50</td>\n",
       "      <td>60,00</td>\n",
       "      <td>01.08.2023 05:59:20</td>\n",
       "    </tr>\n",
       "    <tr>\n",
       "      <th>12061</th>\n",
       "      <td>FFD3E762-C6F5-4E9E-B5F2-5DE4B1B6D5D7</td>\n",
       "      <td>WS</td>\n",
       "      <td>Werkstattarbeiten</td>\n",
       "      <td>110,50</td>\n",
       "      <td>131,50</td>\n",
       "      <td>0,00</td>\n",
       "      <td>60,00</td>\n",
       "      <td>01.08.2023 05:59:20</td>\n",
       "    </tr>\n",
       "    <tr>\n",
       "      <th>12062</th>\n",
       "      <td>FFD3E762-C6F5-4E9E-B5F2-5DE4B1B6D5D7</td>\n",
       "      <td>NaN</td>\n",
       "      <td>Werkstattarbeiten 2</td>\n",
       "      <td>59,95</td>\n",
       "      <td>71,34</td>\n",
       "      <td>59,95</td>\n",
       "      <td>60,00</td>\n",
       "      <td>01.08.2023 05:59:20</td>\n",
       "    </tr>\n",
       "    <tr>\n",
       "      <th>12063</th>\n",
       "      <td>FFD3E762-C6F5-4E9E-B5F2-5DE4B1B6D5D7</td>\n",
       "      <td>ZB</td>\n",
       "      <td>Zubehörarbeiten</td>\n",
       "      <td>135,95</td>\n",
       "      <td>161,78</td>\n",
       "      <td>135,95</td>\n",
       "      <td>60,00</td>\n",
       "      <td>01.08.2023 05:59:20</td>\n",
       "    </tr>\n",
       "  </tbody>\n",
       "</table>\n",
       "<p>12064 rows × 8 columns</p>\n",
       "</div>"
      ],
      "text/plain": [
       "                                    LocalID AWArt  \\\n",
       "0      0007BD7B-6934-4893-B971-CCA4857B1789    EL   \n",
       "1      0007BD7B-6934-4893-B971-CCA4857B1789    KA   \n",
       "2      0007BD7B-6934-4893-B971-CCA4857B1789    LA   \n",
       "3      0007BD7B-6934-4893-B971-CCA4857B1789   NaN   \n",
       "4      0007BD7B-6934-4893-B971-CCA4857B1789    WS   \n",
       "...                                     ...   ...   \n",
       "12059  FFD3E762-C6F5-4E9E-B5F2-5DE4B1B6D5D7    VL   \n",
       "12060  FFD3E762-C6F5-4E9E-B5F2-5DE4B1B6D5D7    VM   \n",
       "12061  FFD3E762-C6F5-4E9E-B5F2-5DE4B1B6D5D7    WS   \n",
       "12062  FFD3E762-C6F5-4E9E-B5F2-5DE4B1B6D5D7   NaN   \n",
       "12063  FFD3E762-C6F5-4E9E-B5F2-5DE4B1B6D5D7    ZB   \n",
       "\n",
       "                            AWArt_Bez VKPreis VKPreis_Brutto EKPreis  \\\n",
       "0                    Elektrikarbeiten   12,40          14,76    6,80   \n",
       "1                  Karosseriearbeiten   13,00          15,47    6,80   \n",
       "2                     Lackierarbeiten   13,00          15,47    6,80   \n",
       "3      Verrechnungssatz Autohaus Zorn   85,71         102,00    6,90   \n",
       "4                   Werkstattarbeiten   10,30          12,26    6,30   \n",
       "...                               ...     ...            ...     ...   \n",
       "12059               Versicherung Lack  165,50         196,95  165,50   \n",
       "12060           Versicherung Mechanik  135,50         161,25  135,50   \n",
       "12061               Werkstattarbeiten  110,50         131,50    0,00   \n",
       "12062             Werkstattarbeiten 2   59,95          71,34   59,95   \n",
       "12063                 Zubehörarbeiten  135,95         161,78  135,95   \n",
       "\n",
       "      AWMinuten               c_date  \n",
       "0          6,00  01.07.2023 11:29:12  \n",
       "1          6,00  01.07.2023 11:29:12  \n",
       "2          6,00  01.07.2023 11:29:12  \n",
       "3          6,00  01.07.2023 11:29:12  \n",
       "4          6,00  01.07.2023 11:29:12  \n",
       "...         ...                  ...  \n",
       "12059     60,00  01.08.2023 05:59:20  \n",
       "12060     60,00  01.08.2023 05:59:20  \n",
       "12061     60,00  01.08.2023 05:59:20  \n",
       "12062     60,00  01.08.2023 05:59:20  \n",
       "12063     60,00  01.08.2023 05:59:20  \n",
       "\n",
       "[12064 rows x 8 columns]"
      ]
     },
     "execution_count": 2,
     "metadata": {},
     "output_type": "execute_result"
    }
   ],
   "source": [
    "df_Verrechnung = pd.read_csv('TM_WA_Verrechnungssätze.csv', on_bad_lines='skip', encoding='ISO-8859–1', delimiter=\";\")\n",
    "df_Verrechnung"
   ]
  },
  {
   "cell_type": "markdown",
   "metadata": {},
   "source": [
    "##Erläuterung den Datenmerkmale der Tabelle TM_WA_Verrechnungssätze.csv (df_Verrechnung)"
   ]
  },
  {
   "cell_type": "markdown",
   "metadata": {},
   "source": [
    "LocalID: GUID einer einzelnen Werkstatt\n",
    "\n",
    "AWArt: Arbeitswerte Art Kürzel\n",
    "\n",
    "AWArt_Bez: Bezeichnung der Arbeitswerte Art\n",
    "\n",
    "VKPreis: Verkaufspreis für ein AW\n",
    "\n",
    "VKPreis_Brutto: Verkaufspreis Brutto für ein AW\n",
    "\n",
    "EKPreis: Einkaufspreis für ein AW\n",
    "\n",
    "AWMinuten: Anzahl Minuten pro AW (Arbeitswert)\n",
    "\n",
    "c_date: Anlieferungsdatum der Daten"
   ]
  },
  {
   "cell_type": "code",
   "execution_count": 3,
   "metadata": {},
   "outputs": [
    {
     "name": "stderr",
     "output_type": "stream",
     "text": [
      "/Users/justyna/opt/anaconda3/envs/master_bi/lib/python3.9/site-packages/IPython/core/interactiveshell.py:3444: DtypeWarning: Columns (15) have mixed types.Specify dtype option on import or set low_memory=False.\n",
      "  exec(code_obj, self.user_global_ns, self.user_ns)\n"
     ]
    },
    {
     "data": {
      "text/html": [
       "<div>\n",
       "<style scoped>\n",
       "    .dataframe tbody tr th:only-of-type {\n",
       "        vertical-align: middle;\n",
       "    }\n",
       "\n",
       "    .dataframe tbody tr th {\n",
       "        vertical-align: top;\n",
       "    }\n",
       "\n",
       "    .dataframe thead th {\n",
       "        text-align: right;\n",
       "    }\n",
       "</style>\n",
       "<table border=\"1\" class=\"dataframe\">\n",
       "  <thead>\n",
       "    <tr style=\"text-align: right;\">\n",
       "      <th></th>\n",
       "      <th>ï»¿LocalID</th>\n",
       "      <th>BELEG_ART</th>\n",
       "      <th>BELEGDATUM</th>\n",
       "      <th>KTypNr</th>\n",
       "      <th>Fzg_Hersteller</th>\n",
       "      <th>ERSTZULASSUNG</th>\n",
       "      <th>KMSTAND</th>\n",
       "      <th>POS_ART</th>\n",
       "      <th>TEXT1</th>\n",
       "      <th>GENARTNR</th>\n",
       "      <th>...</th>\n",
       "      <th>RechEmpfPLZ</th>\n",
       "      <th>RechEmpfAnrede</th>\n",
       "      <th>RechEmpfhatEMail</th>\n",
       "      <th>RechEmpfhatMobil</th>\n",
       "      <th>RechEmpfmitGeburtstag</th>\n",
       "      <th>Belegerstelltam</th>\n",
       "      <th>Beleggedrucktam</th>\n",
       "      <th>hatbelegversicherdaten</th>\n",
       "      <th>RechEmpfistVersichert</th>\n",
       "      <th>Programmvariant</th>\n",
       "    </tr>\n",
       "  </thead>\n",
       "  <tbody>\n",
       "    <tr>\n",
       "      <th>0</th>\n",
       "      <td>0007BD7B-6934-4893-B971-CCA4857B1789</td>\n",
       "      <td>R</td>\n",
       "      <td>20230706.0</td>\n",
       "      <td>11877</td>\n",
       "      <td>BMW</td>\n",
       "      <td>20170221.0</td>\n",
       "      <td>93572</td>\n",
       "      <td>A</td>\n",
       "      <td>INNENRAUMFILTER ERNEUERN</td>\n",
       "      <td>NaN</td>\n",
       "      <td>...</td>\n",
       "      <td>42719</td>\n",
       "      <td>Herrn</td>\n",
       "      <td>NEIN</td>\n",
       "      <td>NEIN</td>\n",
       "      <td>NEIN</td>\n",
       "      <td>20211209.0</td>\n",
       "      <td>20230706.0</td>\n",
       "      <td>NEIN</td>\n",
       "      <td>NEIN</td>\n",
       "      <td>100.0</td>\n",
       "    </tr>\n",
       "    <tr>\n",
       "      <th>1</th>\n",
       "      <td>0007BD7B-6934-4893-B971-CCA4857B1789</td>\n",
       "      <td>R</td>\n",
       "      <td>20230709.0</td>\n",
       "      <td>119580</td>\n",
       "      <td>MERCEDES-BENZ</td>\n",
       "      <td>20190410.0</td>\n",
       "      <td>38386</td>\n",
       "      <td>A</td>\n",
       "      <td>KENNZEICHEN : BM-GG 152 KOSTENSTELLE : 1231</td>\n",
       "      <td>NaN</td>\n",
       "      <td>...</td>\n",
       "      <td>50389</td>\n",
       "      <td>Firma</td>\n",
       "      <td>JA</td>\n",
       "      <td>JA</td>\n",
       "      <td>NEIN</td>\n",
       "      <td>20221128.0</td>\n",
       "      <td>20230709.0</td>\n",
       "      <td>NEIN</td>\n",
       "      <td>NEIN</td>\n",
       "      <td>100.0</td>\n",
       "    </tr>\n",
       "    <tr>\n",
       "      <th>2</th>\n",
       "      <td>0007BD7B-6934-4893-B971-CCA4857B1789</td>\n",
       "      <td>R</td>\n",
       "      <td>20230601.0</td>\n",
       "      <td>34951</td>\n",
       "      <td>VW</td>\n",
       "      <td>20111014.0</td>\n",
       "      <td>175780</td>\n",
       "      <td>A</td>\n",
       "      <td>QUERLENKER LINKS UNTEN ERNEUERN (VORDERACHSE)</td>\n",
       "      <td>NaN</td>\n",
       "      <td>...</td>\n",
       "      <td>50389</td>\n",
       "      <td>Firma</td>\n",
       "      <td>NEIN</td>\n",
       "      <td>JA</td>\n",
       "      <td>NEIN</td>\n",
       "      <td>20230110.0</td>\n",
       "      <td>20230601.0</td>\n",
       "      <td>NEIN</td>\n",
       "      <td>NEIN</td>\n",
       "      <td>100.0</td>\n",
       "    </tr>\n",
       "    <tr>\n",
       "      <th>3</th>\n",
       "      <td>0007BD7B-6934-4893-B971-CCA4857B1789</td>\n",
       "      <td>R</td>\n",
       "      <td>20230601.0</td>\n",
       "      <td>34951</td>\n",
       "      <td>VW</td>\n",
       "      <td>20111014.0</td>\n",
       "      <td>175780</td>\n",
       "      <td>A</td>\n",
       "      <td>LUFTFILTEREINSATZ ERNEUERN</td>\n",
       "      <td>NaN</td>\n",
       "      <td>...</td>\n",
       "      <td>50389</td>\n",
       "      <td>Firma</td>\n",
       "      <td>NEIN</td>\n",
       "      <td>JA</td>\n",
       "      <td>NEIN</td>\n",
       "      <td>20230110.0</td>\n",
       "      <td>20230601.0</td>\n",
       "      <td>NEIN</td>\n",
       "      <td>NEIN</td>\n",
       "      <td>100.0</td>\n",
       "    </tr>\n",
       "    <tr>\n",
       "      <th>4</th>\n",
       "      <td>0007BD7B-6934-4893-B971-CCA4857B1789</td>\n",
       "      <td>R</td>\n",
       "      <td>20230709.0</td>\n",
       "      <td>58535</td>\n",
       "      <td>FORD</td>\n",
       "      <td>20160727.0</td>\n",
       "      <td>117214</td>\n",
       "      <td>E</td>\n",
       "      <td>WISCHBLATT</td>\n",
       "      <td>298.0</td>\n",
       "      <td>...</td>\n",
       "      <td>41460</td>\n",
       "      <td>Firma</td>\n",
       "      <td>JA</td>\n",
       "      <td>JA</td>\n",
       "      <td>NEIN</td>\n",
       "      <td>20230202.0</td>\n",
       "      <td>20230709.0</td>\n",
       "      <td>NEIN</td>\n",
       "      <td>NEIN</td>\n",
       "      <td>100.0</td>\n",
       "    </tr>\n",
       "    <tr>\n",
       "      <th>...</th>\n",
       "      <td>...</td>\n",
       "      <td>...</td>\n",
       "      <td>...</td>\n",
       "      <td>...</td>\n",
       "      <td>...</td>\n",
       "      <td>...</td>\n",
       "      <td>...</td>\n",
       "      <td>...</td>\n",
       "      <td>...</td>\n",
       "      <td>...</td>\n",
       "      <td>...</td>\n",
       "      <td>...</td>\n",
       "      <td>...</td>\n",
       "      <td>...</td>\n",
       "      <td>...</td>\n",
       "      <td>...</td>\n",
       "      <td>...</td>\n",
       "      <td>...</td>\n",
       "      <td>...</td>\n",
       "      <td>...</td>\n",
       "      <td>...</td>\n",
       "    </tr>\n",
       "    <tr>\n",
       "      <th>104495</th>\n",
       "      <td>C5D8539A-10D1-4BCC-97D9-E0520C8F8221</td>\n",
       "      <td>R</td>\n",
       "      <td>20230720.0</td>\n",
       "      <td>7932</td>\n",
       "      <td>VW</td>\n",
       "      <td>19971126.0</td>\n",
       "      <td>87541</td>\n",
       "      <td>A</td>\n",
       "      <td>Abgasuntersuchung</td>\n",
       "      <td>NaN</td>\n",
       "      <td>...</td>\n",
       "      <td>49610</td>\n",
       "      <td>Firma</td>\n",
       "      <td>NEIN</td>\n",
       "      <td>NEIN</td>\n",
       "      <td>NEIN</td>\n",
       "      <td>20230714.0</td>\n",
       "      <td>20230720.0</td>\n",
       "      <td>NEIN</td>\n",
       "      <td>NEIN</td>\n",
       "      <td>100.0</td>\n",
       "    </tr>\n",
       "    <tr>\n",
       "      <th>104496</th>\n",
       "      <td>C5D8539A-10D1-4BCC-97D9-E0520C8F8221</td>\n",
       "      <td>R</td>\n",
       "      <td>20230724.0</td>\n",
       "      <td>108631</td>\n",
       "      <td>VW</td>\n",
       "      <td>20190423.0</td>\n",
       "      <td>86091</td>\n",
       "      <td>E</td>\n",
       "      <td>MotorËl Liqui Moly Longlife 5W30 4200</td>\n",
       "      <td>3224.0</td>\n",
       "      <td>...</td>\n",
       "      <td>49661</td>\n",
       "      <td>Frau</td>\n",
       "      <td>NEIN</td>\n",
       "      <td>NEIN</td>\n",
       "      <td>NEIN</td>\n",
       "      <td>20230717.0</td>\n",
       "      <td>20230724.0</td>\n",
       "      <td>NEIN</td>\n",
       "      <td>NEIN</td>\n",
       "      <td>100.0</td>\n",
       "    </tr>\n",
       "    <tr>\n",
       "      <th>104497</th>\n",
       "      <td>C5D8539A-10D1-4BCC-97D9-E0520C8F8221</td>\n",
       "      <td>R</td>\n",
       "      <td>20230718.0</td>\n",
       "      <td>25508</td>\n",
       "      <td>AUDI</td>\n",
       "      <td>20111026.0</td>\n",
       "      <td>203253</td>\n",
       "      <td>E</td>\n",
       "      <td>OELABLASS-SCHR. 14X1,5 VW/SEAT</td>\n",
       "      <td>593.0</td>\n",
       "      <td>...</td>\n",
       "      <td>49610</td>\n",
       "      <td>Herrn</td>\n",
       "      <td>NEIN</td>\n",
       "      <td>JA</td>\n",
       "      <td>NEIN</td>\n",
       "      <td>20230717.0</td>\n",
       "      <td>20230718.0</td>\n",
       "      <td>NEIN</td>\n",
       "      <td>NEIN</td>\n",
       "      <td>100.0</td>\n",
       "    </tr>\n",
       "    <tr>\n",
       "      <th>104498</th>\n",
       "      <td>C5D8539A-10D1-4BCC-97D9-E0520C8F8221</td>\n",
       "      <td>R</td>\n",
       "      <td>20230718.0</td>\n",
       "      <td>18418</td>\n",
       "      <td>AUDI</td>\n",
       "      <td>20080317.0</td>\n",
       "      <td>250614</td>\n",
       "      <td>E</td>\n",
       "      <td>Filter, Innenraumluft</td>\n",
       "      <td>424.0</td>\n",
       "      <td>...</td>\n",
       "      <td>49610</td>\n",
       "      <td>Herrn</td>\n",
       "      <td>NEIN</td>\n",
       "      <td>JA</td>\n",
       "      <td>NEIN</td>\n",
       "      <td>20230717.0</td>\n",
       "      <td>20230718.0</td>\n",
       "      <td>NEIN</td>\n",
       "      <td>NEIN</td>\n",
       "      <td>100.0</td>\n",
       "    </tr>\n",
       "    <tr>\n",
       "      <th>104499</th>\n",
       "      <td>C5D8539A-10D1-4BCC-97D9-E0520C8F8221</td>\n",
       "      <td>R</td>\n",
       "      <td>20230718.0</td>\n",
       "      <td>18418</td>\n",
       "      <td>AUDI</td>\n",
       "      <td>20080317.0</td>\n",
       "      <td>250614</td>\n",
       "      <td>A</td>\n",
       "      <td>Inspektion klein</td>\n",
       "      <td>NaN</td>\n",
       "      <td>...</td>\n",
       "      <td>49610</td>\n",
       "      <td>Herrn</td>\n",
       "      <td>NEIN</td>\n",
       "      <td>JA</td>\n",
       "      <td>NEIN</td>\n",
       "      <td>20230717.0</td>\n",
       "      <td>20230718.0</td>\n",
       "      <td>NEIN</td>\n",
       "      <td>NEIN</td>\n",
       "      <td>100.0</td>\n",
       "    </tr>\n",
       "  </tbody>\n",
       "</table>\n",
       "<p>104500 rows × 30 columns</p>\n",
       "</div>"
      ],
      "text/plain": [
       "                                  ï»¿LocalID BELEG_ART  BELEGDATUM  KTypNr  \\\n",
       "0       0007BD7B-6934-4893-B971-CCA4857B1789         R  20230706.0   11877   \n",
       "1       0007BD7B-6934-4893-B971-CCA4857B1789         R  20230709.0  119580   \n",
       "2       0007BD7B-6934-4893-B971-CCA4857B1789         R  20230601.0   34951   \n",
       "3       0007BD7B-6934-4893-B971-CCA4857B1789         R  20230601.0   34951   \n",
       "4       0007BD7B-6934-4893-B971-CCA4857B1789         R  20230709.0   58535   \n",
       "...                                      ...       ...         ...     ...   \n",
       "104495  C5D8539A-10D1-4BCC-97D9-E0520C8F8221         R  20230720.0    7932   \n",
       "104496  C5D8539A-10D1-4BCC-97D9-E0520C8F8221         R  20230724.0  108631   \n",
       "104497  C5D8539A-10D1-4BCC-97D9-E0520C8F8221         R  20230718.0   25508   \n",
       "104498  C5D8539A-10D1-4BCC-97D9-E0520C8F8221         R  20230718.0   18418   \n",
       "104499  C5D8539A-10D1-4BCC-97D9-E0520C8F8221         R  20230718.0   18418   \n",
       "\n",
       "       Fzg_Hersteller  ERSTZULASSUNG  KMSTAND POS_ART  \\\n",
       "0                 BMW     20170221.0    93572       A   \n",
       "1       MERCEDES-BENZ     20190410.0    38386       A   \n",
       "2                  VW     20111014.0   175780       A   \n",
       "3                  VW     20111014.0   175780       A   \n",
       "4                FORD     20160727.0   117214       E   \n",
       "...               ...            ...      ...     ...   \n",
       "104495             VW     19971126.0    87541       A   \n",
       "104496             VW     20190423.0    86091       E   \n",
       "104497           AUDI     20111026.0   203253       E   \n",
       "104498           AUDI     20080317.0   250614       E   \n",
       "104499           AUDI     20080317.0   250614       A   \n",
       "\n",
       "                                                TEXT1  GENARTNR  ...  \\\n",
       "0                            INNENRAUMFILTER ERNEUERN       NaN  ...   \n",
       "1         KENNZEICHEN : BM-GG 152 KOSTENSTELLE : 1231       NaN  ...   \n",
       "2       QUERLENKER LINKS UNTEN ERNEUERN (VORDERACHSE)       NaN  ...   \n",
       "3                          LUFTFILTEREINSATZ ERNEUERN       NaN  ...   \n",
       "4                                          WISCHBLATT     298.0  ...   \n",
       "...                                               ...       ...  ...   \n",
       "104495                              Abgasuntersuchung       NaN  ...   \n",
       "104496         MotorËl Liqui Moly Longlife 5W30 4200    3224.0  ...   \n",
       "104497                 OELABLASS-SCHR. 14X1,5 VW/SEAT     593.0  ...   \n",
       "104498                          Filter, Innenraumluft     424.0  ...   \n",
       "104499                               Inspektion klein       NaN  ...   \n",
       "\n",
       "       RechEmpfPLZ RechEmpfAnrede RechEmpfhatEMail RechEmpfhatMobil  \\\n",
       "0            42719          Herrn             NEIN             NEIN   \n",
       "1            50389          Firma               JA               JA   \n",
       "2            50389          Firma             NEIN               JA   \n",
       "3            50389          Firma             NEIN               JA   \n",
       "4            41460          Firma               JA               JA   \n",
       "...            ...            ...              ...              ...   \n",
       "104495       49610          Firma             NEIN             NEIN   \n",
       "104496       49661           Frau             NEIN             NEIN   \n",
       "104497       49610          Herrn             NEIN               JA   \n",
       "104498       49610          Herrn             NEIN               JA   \n",
       "104499       49610          Herrn             NEIN               JA   \n",
       "\n",
       "        RechEmpfmitGeburtstag Belegerstelltam  Beleggedrucktam  \\\n",
       "0                        NEIN      20211209.0       20230706.0   \n",
       "1                        NEIN      20221128.0       20230709.0   \n",
       "2                        NEIN      20230110.0       20230601.0   \n",
       "3                        NEIN      20230110.0       20230601.0   \n",
       "4                        NEIN      20230202.0       20230709.0   \n",
       "...                       ...             ...              ...   \n",
       "104495                   NEIN      20230714.0       20230720.0   \n",
       "104496                   NEIN      20230717.0       20230724.0   \n",
       "104497                   NEIN      20230717.0       20230718.0   \n",
       "104498                   NEIN      20230717.0       20230718.0   \n",
       "104499                   NEIN      20230717.0       20230718.0   \n",
       "\n",
       "       hatbelegversicherdaten RechEmpfistVersichert  Programmvariant  \n",
       "0                        NEIN                  NEIN            100.0  \n",
       "1                        NEIN                  NEIN            100.0  \n",
       "2                        NEIN                  NEIN            100.0  \n",
       "3                        NEIN                  NEIN            100.0  \n",
       "4                        NEIN                  NEIN            100.0  \n",
       "...                       ...                   ...              ...  \n",
       "104495                   NEIN                  NEIN            100.0  \n",
       "104496                   NEIN                  NEIN            100.0  \n",
       "104497                   NEIN                  NEIN            100.0  \n",
       "104498                   NEIN                  NEIN            100.0  \n",
       "104499                   NEIN                  NEIN            100.0  \n",
       "\n",
       "[104500 rows x 30 columns]"
      ]
     },
     "execution_count": 3,
     "metadata": {},
     "output_type": "execute_result"
    }
   ],
   "source": [
    "df_Belege = pd.read_csv('TM_WA_Belege_sample.csv', on_bad_lines='skip', encoding='ISO-8859–1', delimiter=\";\")\n",
    "df_Belege"
   ]
  },
  {
   "cell_type": "markdown",
   "metadata": {},
   "source": [
    "##Erläuterung den Datenmerkmale der Tabelle TM_WA_Belege_sample.csv (df_Belege)"
   ]
  },
  {
   "cell_type": "markdown",
   "metadata": {},
   "source": [
    "LocalID: GUID einer einzelnen Werkstatt\n",
    "\n",
    "BelegID: ID, welche innerhalb einer Werkstatt die Positionen zu einem Vorgang zusammenfast\n",
    "\n",
    "BELEG_ART: Typ des Beleges; R = Rechnung, G = Gutschrift\n",
    "\n",
    "BELEGDATUM: Datum des Beleges\n",
    "\n",
    "KTypNr: Fahrzeugtyp ID des betreffenden Kunden Fahrzeuges\n",
    "\n",
    "Fzg_Hersteller: Fahrzeug Hersteller des Fahrzeuges\n",
    "\n",
    "ERSTZULASSUNG: Erstzulassung des betreffenden Kunden Fahrzeuges\n",
    "\n",
    "KMSTAND: Kilometerstand/Fahrleistung des betreffenden Kunden Fahrzeuges; 0: nicht angegeben\n",
    "\n",
    "POS_ART: Typ/Art der einzelnen Position ->key_PosArt.csv\n",
    "\n",
    "TEXT1: Erster Text für die einzelne Position\n",
    "\n",
    "GENARTNR: ID der Produktgruppe für ET. Nicht immer vorhanden\n",
    "\n",
    "GENART_BEZ: Bezeichnung der Produktgruppe\n",
    "\n",
    "Menge: Menge\n",
    "\n",
    "Mengeneinheit: Mengeneinheit zur Menge\n",
    "\n",
    "VK_Preis: Verkaufspreis\n",
    "\n",
    "MWST_Prozent: Mehrwertsteuer\n",
    "\n",
    "Minuten_pro_AW: Anzahl Minuten pro AW (Arbeitswert)\n",
    "\n",
    "PLZ: PLZ der Werkstatt\n",
    "\n",
    "EKPreis: Einkaufspreis\n",
    "\n",
    "Pos_Text2: Text 2 für die einzelne Position\n",
    "\n",
    "Fzg_anlage_datum: Anlage Datum des betreffenden Kunden Fahrzeuges\n",
    "\n",
    "RechEmpfPLZ: PLZ des Rechnungsempfängers\n",
    "\n",
    "RechEmpfAnrede: Anrede des Rechnungsempfängers\n",
    "\n",
    "RechEmpfhatEMail: EMail Adresse vorhanden vom Rechnungsempfänger JA/NEIN\n",
    "\n",
    "RechEmpfhatMobil: Mobil-Nummer vorhanden vom Rechnungsempfänger JA/NEIN\n",
    "\n",
    "RechEmpfmitGeburtstag: Geburtstag vorhanden vom Rechnungsempfänger JA/NEIN\n",
    "\n",
    "Belegerstelltam: Erstellungsdatum des Beleges\n",
    "\n",
    "Beleggedrucktam: Datum des Ausdruckes des Beleges\n",
    "\n",
    "Hatbelegversicherdaten: Versicherungsdaten vorhanden JA/NEIN\n",
    "\n",
    "RechEmpfistVersichert: Ist Rechnungsempfänger versichert JA/NEIN\n",
    "\n",
    "Programmvariant: Version des Werkstatt Programmes"
   ]
  },
  {
   "cell_type": "code",
   "execution_count": 4,
   "metadata": {},
   "outputs": [
    {
     "data": {
      "text/html": [
       "<div>\n",
       "<style scoped>\n",
       "    .dataframe tbody tr th:only-of-type {\n",
       "        vertical-align: middle;\n",
       "    }\n",
       "\n",
       "    .dataframe tbody tr th {\n",
       "        vertical-align: top;\n",
       "    }\n",
       "\n",
       "    .dataframe thead th {\n",
       "        text-align: right;\n",
       "    }\n",
       "</style>\n",
       "<table border=\"1\" class=\"dataframe\">\n",
       "  <thead>\n",
       "    <tr style=\"text-align: right;\">\n",
       "      <th></th>\n",
       "      <th>PosArt</th>\n",
       "      <th>Bezeichnung</th>\n",
       "    </tr>\n",
       "  </thead>\n",
       "  <tbody>\n",
       "    <tr>\n",
       "      <th>0</th>\n",
       "      <td>A</td>\n",
       "      <td>AW = Arbeitswert Position</td>\n",
       "    </tr>\n",
       "    <tr>\n",
       "      <th>1</th>\n",
       "      <td>B</td>\n",
       "      <td>AW (Fremdarbeit)</td>\n",
       "    </tr>\n",
       "    <tr>\n",
       "      <th>2</th>\n",
       "      <td>D</td>\n",
       "      <td>AW (Durchläufer §10) - Immer SteuerNr 4 (0%)</td>\n",
       "    </tr>\n",
       "    <tr>\n",
       "      <th>3</th>\n",
       "      <td>E</td>\n",
       "      <td>ET = Ersatzteil</td>\n",
       "    </tr>\n",
       "    <tr>\n",
       "      <th>4</th>\n",
       "      <td>O</td>\n",
       "      <td>ET(Öle/Schmierstoffe)</td>\n",
       "    </tr>\n",
       "  </tbody>\n",
       "</table>\n",
       "</div>"
      ],
      "text/plain": [
       "  PosArt                                   Bezeichnung\n",
       "0      A                     AW = Arbeitswert Position\n",
       "1      B                              AW (Fremdarbeit)\n",
       "2      D  AW (Durchläufer §10) - Immer SteuerNr 4 (0%)\n",
       "3      E                               ET = Ersatzteil\n",
       "4      O                         ET(Öle/Schmierstoffe)"
      ]
     },
     "execution_count": 4,
     "metadata": {},
     "output_type": "execute_result"
    }
   ],
   "source": [
    "df_PosArt = pd.read_csv('Key_PosArt.csv', on_bad_lines='skip', encoding='ISO-8859–1', delimiter=\";\")\n",
    "df_PosArt"
   ]
  },
  {
   "cell_type": "markdown",
   "metadata": {},
   "source": [
    "##Erläuterung den Datenmerkmale der Tabelle Key_PosArt.csv (df_PosArt)"
   ]
  },
  {
   "cell_type": "markdown",
   "metadata": {},
   "source": [
    "PosArt: Typ/Art der einzelnen Position\n",
    "\n",
    "Bezeichnung: Bezeichnung der PosArt"
   ]
  },
  {
   "cell_type": "markdown",
   "metadata": {},
   "source": [
    "##Deskriptive Statistik:"
   ]
  },
  {
   "cell_type": "markdown",
   "metadata": {},
   "source": [
    "count: Anzahl der nicht fehlenden (nicht-NA/null) Einträge.\n",
    "\n",
    "mean: Der Durchschnittswert der Einträge.\n",
    "\n",
    "std: Die Standardabweichung, die die Streuung der Daten um den Durchschnitt herum misst.\n",
    "\n",
    "min: Der kleinste Wert.\n",
    "\n",
    "25%: Das 25. Perzentil, d.h. 25% der Daten liegen unter diesem Wert.\n",
    "\n",
    "50%: Das Median oder 50. Perzentil.\n",
    "\n",
    "75%: Das 75. Perzentil, d.h. 75% der Daten liegen unter diesem Wert.\n",
    "\n",
    "max: Der größte Wert."
   ]
  },
  {
   "cell_type": "code",
   "execution_count": 24,
   "metadata": {},
   "outputs": [
    {
     "name": "stdout",
     "output_type": "stream",
     "text": [
      "Verrechnung\n",
      "                                     LocalID AWArt          AWArt_Bez VKPreis  \\\n",
      "count                                  12064  7985              12064   12059   \n",
      "unique                                  1007   122               1425    1155   \n",
      "top     86E3ED88-C918-4BCD-9BA1-E8F38E8A4560    WS  Werkstattarbeiten   95,00   \n",
      "freq                                     147  1748               1683     388   \n",
      "\n",
      "       VKPreis_Brutto EKPreis AWMinuten               c_date  \n",
      "count           12059   12059     12059                12064  \n",
      "unique           1183     220         7                 1877  \n",
      "top            113,05    0,00     60,00  01.08.2023 06:42:22  \n",
      "freq              413    9908      7909                   53  \n"
     ]
    }
   ],
   "source": [
    "print(\"Verrechnung\")\n",
    "print(df_Verrechnung.describe())"
   ]
  },
  {
   "cell_type": "markdown",
   "metadata": {},
   "source": [
    "Bei der Tabelle Verrechnung konnte beobachetet werden:\n",
    "\n",
    "1. Für \"AWArt\" gibt es nur 7985 Einträge, was bedeutet, dass es einige fehlende Daten in dieser Spalte gibt.\n",
    "2. Einige Spalten für \"LocalID\" sind nicht eindeutig (da \"unique\" weniger ist als \"count\"). Das könnte ein Zeichen für redundante Daten oder Fehler sein.\n",
    "3. Die Spalte \"EKPreis\" hat einen häufigsten Wert von \"0,00\", der 9908 Mal auftritt. Dies könnte darauf hinweisen, dass viele Artikel kostenlos sind oder dass fehlende/unaufgefüllte Werte als \"0,00\" markiert sind."
   ]
  },
  {
   "cell_type": "code",
   "execution_count": 6,
   "metadata": {},
   "outputs": [
    {
     "name": "stdout",
     "output_type": "stream",
     "text": [
      "Belege\n",
      "         BELEGDATUM         KTypNr  ERSTZULASSUNG       KMSTAND      GENARTNR  \\\n",
      "count  1.031580e+05  104500.000000   1.009530e+05  1.045000e+05  41107.000000   \n",
      "mean   2.022048e+07   43056.056775   2.009287e+07  1.316264e+05   2264.118569   \n",
      "std    3.913724e+04   44574.531769   5.785383e+05  1.351646e+05   6212.767313   \n",
      "min    1.995070e+07       0.000000   1.010100e+04  0.000000e+00  -7528.000000   \n",
      "25%    2.023061e+07   11329.000000   2.007092e+07  6.272500e+04    188.000000   \n",
      "50%    2.023063e+07   22555.000000   2.012062e+07  1.156570e+05    655.000000   \n",
      "75%    2.023071e+07   59068.000000   2.016070e+07  1.762240e+05   3096.000000   \n",
      "max    2.023073e+07  153369.000000   6.106032e+07  9.582192e+06  85017.000000   \n",
      "\n",
      "        MWST_Prozent           PLZ  Fzg_anlage_datum  Belegerstelltam  \\\n",
      "count  104500.000000  99429.000000      1.005320e+05     1.004480e+05   \n",
      "mean       17.663866  42525.054149      2.019484e+07     2.022512e+07   \n",
      "std         4.826185  23084.864951      8.462809e+04     6.785753e+04   \n",
      "min         0.000000   1108.000000      1.000000e+00     3.854200e+04   \n",
      "25%        19.000000  26219.000000      2.018031e+07     2.023060e+07   \n",
      "50%        19.000000  40670.000000      2.021021e+07     2.023062e+07   \n",
      "75%        19.000000  55296.000000      2.023011e+07     2.023071e+07   \n",
      "max        20.000000  99755.000000      2.023080e+07     2.023080e+07   \n",
      "\n",
      "       Beleggedrucktam  Programmvariant  \n",
      "count     9.387700e+04    103157.000000  \n",
      "mean      2.023014e+07       100.041413  \n",
      "std       6.606392e+04         0.404891  \n",
      "min       3.000000e+00       100.000000  \n",
      "25%       2.023062e+07       100.000000  \n",
      "50%       2.023070e+07       100.000000  \n",
      "75%       2.023072e+07       100.000000  \n",
      "max       2.023080e+07       104.000000  \n"
     ]
    }
   ],
   "source": [
    "print(\"Belege\")\n",
    "print(df_Belege.describe())"
   ]
  },
  {
   "cell_type": "markdown",
   "metadata": {},
   "source": [
    "Bei der Tabelle Belege konnte beobachetet werden :\n",
    "\n",
    "1. BELEGDATUM, ERSTZULASSUNG, Fzg_anlage_datum, Belegerstelltam, Beleggedrucktam sind Datumsangaben in numerischem Format YYYYMMDD. Der Großteil der Daten liegt zwischen 2022 und 2023. Es gibt jedoch einige ungewöhnliche Mindestwerte, wie 1.010100e+04 für ERSTZULASSUNG, es wäre der 1. Januar 2001.\n",
    "2. KTypNr: Die Werte variieren stark, mit einem Median von 22555 und einem Maximum von 153369\n",
    "3. KMSTAND: Der Durchschnittskilometerstand liegt bei ca. 131.626 km. Das Maximum von ca. 9.582.192 km scheint ungewöhnlich hoch und könnte ein Ausreißer oder ein Fehler sein.\n",
    "4. GENARTNR: Die Werte variieren erheblich, und es gibt negative Werte (wie das Minimum von -7528), die ungewöhnlich erscheinen.\n",
    "5. MWST_Prozent: Die Mehrwertsteuer liegt größtenteils bei 19%, mit Schwankungen zwischen 0% und 20%.\n",
    "6. Programmvariant: Fast alle Werte liegen bei 100, aber es gibt einige wenige Abweichungen bis zu einem Maximum von 104.\n",
    "7. Es gibt Spalten mit fehlenden Werten:\n",
    "    BELEGDATUM: 103158\n",
    "    ERSTZULASSUNG: 100953\n",
    "    GENARTNR: 41107\n",
    "    PLZ: 99429\n",
    "    Fzg_anlage_datum: 100532\n",
    "    Belegerstelltam: 100448\n",
    "    Beleggedrucktam: 93877\n",
    "    Programmvariant: 103157\n",
    "\n"
   ]
  },
  {
   "cell_type": "code",
   "execution_count": 7,
   "metadata": {},
   "outputs": [
    {
     "name": "stdout",
     "output_type": "stream",
     "text": [
      "PosArt\n",
      "       PosArt                Bezeichnung\n",
      "count       5                          5\n",
      "unique      5                          5\n",
      "top         A  AW = Arbeitswert Position\n",
      "freq        1                          1\n"
     ]
    }
   ],
   "source": [
    "print(\"PosArt\")\n",
    "print(df_PosArt.describe())"
   ]
  },
  {
   "cell_type": "markdown",
   "metadata": {},
   "source": [
    "Bei der Tabelle PosArt konnten keine Auffälligkeiten beobachetet werden."
   ]
  },
  {
   "cell_type": "markdown",
   "metadata": {},
   "source": [
    "##Datentyp prüfen"
   ]
  },
  {
   "cell_type": "markdown",
   "metadata": {},
   "source": [
    "###Datentyp der Tabelle df_Verrechnung"
   ]
  },
  {
   "cell_type": "code",
   "execution_count": 8,
   "metadata": {},
   "outputs": [
    {
     "data": {
      "text/plain": [
       "LocalID           object\n",
       "AWArt             object\n",
       "AWArt_Bez         object\n",
       "VKPreis           object\n",
       "VKPreis_Brutto    object\n",
       "EKPreis           object\n",
       "AWMinuten         object\n",
       "c_date            object\n",
       "dtype: object"
      ]
     },
     "execution_count": 8,
     "metadata": {},
     "output_type": "execute_result"
    }
   ],
   "source": [
    "df_Verrechnung.dtypes"
   ]
  },
  {
   "cell_type": "markdown",
   "metadata": {},
   "source": [
    "Auffäligkeiten:\n",
    "\n",
    "1. Potentiell Falsche Datentypen für Preise und Minuten:\n",
    "\n",
    "VKPreis (Verkaufspreis), VKPreis_Brutto (Bruttoverkaufspreis) und EKPreis (Einkaufspreis) könnten numerische Werte enthalten, sind aber als object typisiert. Normalerweise würden diese Daten als float (für Dezimalzahlen) oder int (für ganze Zahlen) erwarten, je nachdem, ob sie Dezimalstellen enthalten oder nicht.\n",
    "\n",
    "AWMinuten (Anzahl Minuten pro Arbeitswert) scheint ebenfalls ein numerischer Wert zu sein, ist aber als object klassifiziert, sollte zu int umgewandelt werden.\n",
    "\n",
    "2. c_date als Objekt:\n",
    "c_date (Anlieferungsdatum der Daten) sollte wahrscheinlich als Datum typisiert sein, ist aber als object angegeben. Dies deutet darauf hin, dass es als String repräsentiert wird."
   ]
  },
  {
   "cell_type": "markdown",
   "metadata": {},
   "source": [
    "## Datentypen der Tabelle df_Verrechnung entsprechen anpassen"
   ]
  },
  {
   "cell_type": "markdown",
   "metadata": {},
   "source": [
    "### Überprüfung den Rohdaten vor der Typumwandlung"
   ]
  },
  {
   "cell_type": "code",
   "execution_count": 9,
   "metadata": {},
   "outputs": [
    {
     "name": "stdout",
     "output_type": "stream",
     "text": [
      "  VKPreis VKPreis_Brutto EKPreis AWMinuten\n",
      "0   12,40          14,76    6,80      6,00\n",
      "1   13,00          15,47    6,80      6,00\n",
      "2   13,00          15,47    6,80      6,00\n",
      "3   85,71         102,00    6,90      6,00\n",
      "4   10,30          12,26    6,30      6,00\n"
     ]
    }
   ],
   "source": [
    "print(df_Verrechnung[['VKPreis', 'VKPreis_Brutto', 'EKPreis', 'AWMinuten']].head())"
   ]
  },
  {
   "cell_type": "markdown",
   "metadata": {},
   "source": [
    "Auffäligkeiten:\n",
    "\n",
    "1. Die Daten liegen in einem, für die Umwandlug, ungeeignetem Format, heisst die sind mit Kommas statt mit einem Punkt getrennt"
   ]
  },
  {
   "cell_type": "code",
   "execution_count": 10,
   "metadata": {},
   "outputs": [
    {
     "name": "stdout",
     "output_type": "stream",
     "text": [
      "   VKPreis  VKPreis_Brutto  EKPreis  AWMinuten\n",
      "0    12.40           14.76      6.8          6\n",
      "1    13.00           15.47      6.8          6\n",
      "2    13.00           15.47      6.8          6\n",
      "3    85.71          102.00      6.9          6\n",
      "4    10.30           12.26      6.3          6\n",
      "LocalID                   object\n",
      "AWArt                     object\n",
      "AWArt_Bez                 object\n",
      "VKPreis                  float64\n",
      "VKPreis_Brutto           float64\n",
      "EKPreis                  float64\n",
      "AWMinuten                  Int64\n",
      "c_date            datetime64[ns]\n",
      "dtype: object\n"
     ]
    }
   ],
   "source": [
    "# Erstelle eine Kopie von df_Verrechnung und speichere sie in df_Verrechnung_dt\n",
    "df_Verrechnung_dt = df_Verrechnung.copy()\n",
    "\n",
    "# Ersetze Kommas durch Punkte und konvertiere zu float\n",
    "df_Verrechnung_dt['VKPreis'] = df_Verrechnung['VKPreis'].str.replace(',', '.').astype(float)\n",
    "df_Verrechnung_dt['VKPreis_Brutto'] = df_Verrechnung['VKPreis_Brutto'].str.replace(',', '.').astype(float)\n",
    "df_Verrechnung_dt['EKPreis'] = df_Verrechnung['EKPreis'].str.replace(',', '.').astype(float)\n",
    "df_Verrechnung_dt['AWMinuten'] = df_Verrechnung['AWMinuten'].str.replace(',', '.').astype(float)\n",
    "\n",
    "# Konvertiere AWMinuten zu int\n",
    "df_Verrechnung_dt['AWMinuten'] = df_Verrechnung_dt['AWMinuten'].round(0).astype('Int64')\n",
    "\n",
    "# Konvertiere c_date zu datetime\n",
    "df_Verrechnung_dt['c_date'] = pd.to_datetime(df_Verrechnung['c_date'], errors='coerce')\n",
    "\n",
    "# Überprüfe die Ergebnisse\n",
    "print(df_Verrechnung_dt[['VKPreis', 'VKPreis_Brutto', 'EKPreis', 'AWMinuten']].head())\n",
    "\n",
    "# Überprüfe die neuen Datentypen\n",
    "print(df_Verrechnung_dt.dtypes)"
   ]
  },
  {
   "cell_type": "markdown",
   "metadata": {},
   "source": [
    "###Datentyp der Tabelle df_Belege"
   ]
  },
  {
   "cell_type": "code",
   "execution_count": 11,
   "metadata": {},
   "outputs": [
    {
     "data": {
      "text/plain": [
       "ï»¿LocalID                 object\n",
       "BELEG_ART                  object\n",
       "BELEGDATUM                float64\n",
       "KTypNr                      int64\n",
       "Fzg_Hersteller             object\n",
       "ERSTZULASSUNG             float64\n",
       "KMSTAND                     int64\n",
       "POS_ART                    object\n",
       "TEXT1                      object\n",
       "GENARTNR                  float64\n",
       "GENART_BEZ                 object\n",
       "Menge                      object\n",
       "Mengeneinheit              object\n",
       "VK_Preis                   object\n",
       "MWST_Prozent                int64\n",
       "Minuten_pro_AW             object\n",
       "PLZ                       float64\n",
       "EKPreis                    object\n",
       "Pos_Text2                  object\n",
       "Fzg_anlage_datum          float64\n",
       "RechEmpfPLZ                object\n",
       "RechEmpfAnrede             object\n",
       "RechEmpfhatEMail           object\n",
       "RechEmpfhatMobil           object\n",
       "RechEmpfmitGeburtstag      object\n",
       "Belegerstelltam           float64\n",
       "Beleggedrucktam           float64\n",
       "hatbelegversicherdaten     object\n",
       "RechEmpfistVersichert      object\n",
       "Programmvariant           float64\n",
       "dtype: object"
      ]
     },
     "execution_count": 11,
     "metadata": {},
     "output_type": "execute_result"
    }
   ],
   "source": [
    "df_Belege.dtypes"
   ]
  },
  {
   "cell_type": "markdown",
   "metadata": {},
   "source": [
    "Auffäligkeiten:\n",
    "\n",
    "1. Datumsangaben als float64:\n",
    "BELEGDATUM, ERSTZULASSUNG, Fzg_anlage_datum, Belegerstelltam, Beleggedrucktam sollten als Datumstypen (datetime) behandelt werden.\n",
    "\n",
    "2. Numerische Werte als object:\n",
    "Menge, VK_Preis, EKPreis sollten als numerische Typen (wahrscheinlich float) behandelt werden.\n",
    "Minuten_pro_AW sollte als int behandelt werden.\n",
    "\n",
    "3. Postleitzahlen als float64:\n",
    "PLZ und RechEmpfPLZ sollten als object (Strings) bleiben, um eventuelle führende Nullen zu bewahren.\n",
    "\n",
    "4. Boolean-Werte für Ja/Nein-Attribute:\n",
    "RechEmpfhatEMail, RechEmpfhatMobil, RechEmpfmitGeburtstag, hatbelegversicherdaten, RechEmpfistVersichert könnten in Booleans (True/False) umgewandelt werden.\n",
    "\n",
    "5. Kategorische Daten:\n",
    "BELEG_ART, Fzg_Hersteller, POS_ART, TEXT1, GENART_BEZ, Mengeneinheit, RechEmpfAnrede könnten als kategorische Typen (category) behandelt werden.\n",
    "\n",
    "6. MWST_Prozent:\n",
    "Bleibt als int64, es sei denn, es gibt Fälle, in denen Dezimalstellen vorkommen, dann sollte es zu float geändert werden.\n",
    "\n",
    "7. GUIDs und IDs:\n",
    "LocalID und BelegID sollten als object (Strings) bleiben.\n"
   ]
  },
  {
   "cell_type": "markdown",
   "metadata": {},
   "source": [
    "###Datentypen der Tabelle df_Belege entsprechen anpassen"
   ]
  },
  {
   "cell_type": "code",
   "execution_count": 12,
   "metadata": {},
   "outputs": [
    {
     "name": "stdout",
     "output_type": "stream",
     "text": [
      "ï»¿LocalID                        object\n",
      "BELEG_ART                       category\n",
      "BELEGDATUM                datetime64[ns]\n",
      "KTypNr                             int64\n",
      "Fzg_Hersteller                  category\n",
      "ERSTZULASSUNG             datetime64[ns]\n",
      "KMSTAND                            int64\n",
      "POS_ART                         category\n",
      "TEXT1                           category\n",
      "GENARTNR                         float64\n",
      "GENART_BEZ                      category\n",
      "Menge                            float64\n",
      "Mengeneinheit                   category\n",
      "VK_Preis                         float64\n",
      "MWST_Prozent                       int64\n",
      "Minuten_pro_AW                     Int64\n",
      "PLZ                              float64\n",
      "EKPreis                          float64\n",
      "Pos_Text2                         object\n",
      "Fzg_anlage_datum          datetime64[ns]\n",
      "RechEmpfPLZ                       object\n",
      "RechEmpfAnrede                  category\n",
      "RechEmpfhatEMail                  object\n",
      "RechEmpfhatMobil                  object\n",
      "RechEmpfmitGeburtstag             object\n",
      "Belegerstelltam           datetime64[ns]\n",
      "Beleggedrucktam           datetime64[ns]\n",
      "hatbelegversicherdaten            object\n",
      "RechEmpfistVersichert             object\n",
      "Programmvariant                  float64\n",
      "dtype: object\n"
     ]
    }
   ],
   "source": [
    "# Erstelle eine Kopie von df_Belege und speichere sie in df_Belege_dt\n",
    "df_Belege_dt = df_Belege.copy()\n",
    "\n",
    "# Konvertiere die Datumsangaben von float64 zu datetime\n",
    "datumsfelder = ['BELEGDATUM', 'ERSTZULASSUNG', 'Fzg_anlage_datum', 'Belegerstelltam', 'Beleggedrucktam']\n",
    "for feld in datumsfelder:\n",
    "    df_Belege_dt[feld] = pd.to_datetime(df_Belege_dt[feld], unit='s', errors='coerce')\n",
    "\n",
    "# Konvertiere numerische Werte, die als object typisiert sind\n",
    "numerische_felder = ['Menge', 'VK_Preis', 'EKPreis']\n",
    "for feld in numerische_felder:\n",
    "    df_Belege_dt[feld] = pd.to_numeric(df_Belege_dt[feld], errors='coerce')\n",
    "\n",
    "# Konvertiere Minuten_pro_AW zu int\n",
    "df_Belege_dt['Minuten_pro_AW'] = pd.to_numeric(df_Belege_dt['Minuten_pro_AW'], errors='coerce').astype('Int64')\n",
    "\n",
    "# Konvertiere Booleans\n",
    "bool_felder = ['RechEmpfhatEMail', 'RechEmpfhatMobil', 'RechEmpfmitGeburtstag', 'hatbelegversicherdaten', 'RechEmpfistVersichert']\n",
    "for feld in bool_felder:\n",
    "    df_Belege_dt[feld] = df_Belege_dt[feld].map({'JA': True, 'NEIN': False})\n",
    "\n",
    "# Konvertiere kategorische Daten\n",
    "kategorische_felder = ['BELEG_ART', 'Fzg_Hersteller', 'POS_ART', 'TEXT1', 'GENART_BEZ', 'Mengeneinheit', 'RechEmpfAnrede']\n",
    "for feld in kategorische_felder:\n",
    "    df_Belege_dt[feld] = df_Belege_dt[feld].astype('category')\n",
    "\n",
    "# Überprüfe die neuen Datentypen\n",
    "print(df_Belege_dt.dtypes)"
   ]
  },
  {
   "cell_type": "markdown",
   "metadata": {},
   "source": [
    "##Missing Values"
   ]
  },
  {
   "cell_type": "markdown",
   "metadata": {},
   "source": [
    "### Fehlende Werte der Tabelle df_Verrechnung"
   ]
  },
  {
   "cell_type": "code",
   "execution_count": 13,
   "metadata": {},
   "outputs": [
    {
     "name": "stdout",
     "output_type": "stream",
     "text": [
      "Fehlende Werte bei df_Verrechnung:\n",
      "                Total\n",
      "AWArt            4079\n",
      "VKPreis             5\n",
      "VKPreis_Brutto      5\n",
      "EKPreis             5\n",
      "AWMinuten           5\n",
      "LocalID             0\n",
      "AWArt_Bez           0\n",
      "c_date              0\n"
     ]
    }
   ],
   "source": [
    "total = df_Verrechnung.isnull().sum().sort_values(ascending=False)\n",
    "missing_data = pd.concat([total], axis=1, keys=['Total'])\n",
    "print(\"Fehlende Werte bei df_Verrechnung:\")\n",
    "print(missing_data)"
   ]
  },
  {
   "cell_type": "code",
   "execution_count": 14,
   "metadata": {},
   "outputs": [
    {
     "data": {
      "image/png": "[encoded data removed]",
      "text/plain": [
       "<Figure size 1080x720 with 1 Axes>"
      ]
     },
     "metadata": {
      "needs_background": "light"
     },
     "output_type": "display_data"
    }
   ],
   "source": [
    "import matplotlib.pyplot as plt\n",
    "import seaborn as sns\n",
    "\n",
    "# Erstelle eine neue DataFrame, die True ist, wenn Werte fehlen, sonst False\n",
    "missing_values = df_Verrechnung.isnull()\n",
    "\n",
    "# Erstelle eine Heatmap, um die fehlenden Daten zu visualisieren\n",
    "plt.figure(figsize=(15, 10))\n",
    "sns.heatmap(missing_values, cbar=False, yticklabels=False, cmap='viridis')\n",
    "\n",
    "# Titel und Labels hinzufügen\n",
    "plt.title('Verteilung der fehlenden Werte in df_Verrechnung')\n",
    "plt.xlabel('Spalten')\n",
    "plt.ylabel('Zeilen')\n",
    "\n",
    "# Zeige das Diagramm\n",
    "plt.show()"
   ]
  },
  {
   "cell_type": "markdown",
   "metadata": {},
   "source": [
    "Auffäligkeiten:\n",
    "\n",
    "1. Insgesamt scheint der Datensatz recht vollständig zu sein, mit Ausnahme der relativ hohen Anzahl an fehlenden Werten in der Spalte \"AWArt\"\n",
    "\n",
    "2. AWArt (4079 fehlende Werte): Dies könnte darauf hindeuten, dass in vielen Fällen die spezifische Arbeitswert-Art (AWArt) nicht erfasst wurde. Dies könnte ein Indikator dafür sein, dass diese Information oft nicht verfügbar ist oder dass sie in der Erfassungsroutine häufig übergangen wird.\n",
    "\n",
    "3. KPreis, VKPreis_Brutto, EKPreis, AWMinuten: bestimmte Zeilen insgesamt diese Werte nicht beinhalten. Dies könnte auf systematische Probleme in der Datenerfassung hinweisen.\n",
    "Die visuelle Darstellung zeigt, dass fehlende Werte in bestimmten Spalten zusammenhängen und nicht zufällig verteilt sind."
   ]
  },
  {
   "cell_type": "markdown",
   "metadata": {},
   "source": [
    "### Fehledne Werte der Tabelle df_Belege"
   ]
  },
  {
   "cell_type": "code",
   "execution_count": 15,
   "metadata": {},
   "outputs": [
    {
     "name": "stdout",
     "output_type": "stream",
     "text": [
      "Fehlende Werte bei df_Belege:\n",
      "                        Total\n",
      "Mengeneinheit           67789\n",
      "GENART_BEZ              63953\n",
      "GENARTNR                63393\n",
      "Fzg_Hersteller          17108\n",
      "Beleggedrucktam         10623\n",
      "RechEmpfAnrede           7079\n",
      "PLZ                      5071\n",
      "Belegerstelltam          4052\n",
      "Fzg_anlage_datum         3968\n",
      "ERSTZULASSUNG            3547\n",
      "RechEmpfhatMobil         1842\n",
      "RechEmpfhatEMail         1842\n",
      "RechEmpfmitGeburtstag    1842\n",
      "Pos_Text2                1578\n",
      "Programmvariant          1343\n",
      "hatbelegversicherdaten   1342\n",
      "RechEmpfistVersichert    1342\n",
      "BELEGDATUM               1342\n",
      "RechEmpfPLZ               436\n",
      "TEXT1                     313\n",
      "EKPreis                     1\n",
      "ï»¿LocalID                  0\n",
      "BELEG_ART                   0\n",
      "MWST_Prozent                0\n",
      "VK_Preis                    0\n",
      "Menge                       0\n",
      "POS_ART                     0\n",
      "KMSTAND                     0\n",
      "KTypNr                      0\n",
      "Minuten_pro_AW              0\n"
     ]
    }
   ],
   "source": [
    "total = df_Belege.isnull().sum().sort_values(ascending=False)\n",
    "missing_data = pd.concat([total], axis=1, keys=['Total'])\n",
    "print(\"Fehlende Werte bei df_Belege:\")\n",
    "print(missing_data)"
   ]
  },
  {
   "cell_type": "code",
   "execution_count": 16,
   "metadata": {},
   "outputs": [
    {
     "data": {
      "image/png": "[encoded data removed]",
      "text/plain": [
       "<Figure size 1080x720 with 1 Axes>"
      ]
     },
     "metadata": {
      "needs_background": "light"
     },
     "output_type": "display_data"
    }
   ],
   "source": [
    "# Erstelle eine neue DataFrame, die True ist, wenn Werte fehlen, sonst False\n",
    "missing_values = df_Belege.isnull()\n",
    "\n",
    "# Erstelle eine Heatmap, um die fehlenden Daten zu visualisieren\n",
    "plt.figure(figsize=(15, 10))\n",
    "sns.heatmap(missing_values, cbar=False, yticklabels=False, cmap='viridis')\n",
    "\n",
    "# Titel und Labels hinzufügen\n",
    "plt.title('Verteilung der fehlenden Werte in df_Belege')\n",
    "plt.xlabel('Spalten')\n",
    "plt.ylabel('Zeilen')\n",
    "\n",
    "# Zeige das Diagramm\n",
    "plt.show()"
   ]
  },
  {
   "cell_type": "markdown",
   "metadata": {},
   "source": [
    "Auffäligkeiten:\n",
    "\n",
    "1. Hohe Anzahl an fehlenden Werten in bestimmten Spalten:\n",
    "Die Spalten Mengeneinheit, GENART_BEZ und GENARTNR zeigen eine sehr hohe Anzahl an fehlenden Werten. Dies könnte darauf hindeuten, dass in vielen Fällen spezifische Informationen zu Produktgruppen oder Einheiten nicht erfasst wurden. Es könnte ein Hinweis darauf sein, dass diese Angaben für einige Vorgänge nicht relevant, nicht verfügbar oder bei der Dateneingabe häufig übersehen werden.\n",
    "\n",
    "2. Daten zu Fahrzeugen unvollständig:\n",
    "Für Spalten wie Fzg_Hersteller und ERSTZULASSUNG gibt es eine hohe Anzahl an fehlenden Daten. Das Fehlen dieser Informationen könnte auf eine inkonsistente Erfassung von Fahrzeugdaten hinweisen oder darauf, dass diese Daten in bestimmten Fällen schwer zu beschaffen sind.\n",
    "\n",
    "3. Fehlende Kontaktinformationen und persönliche Details:\n",
    "Kontaktinformationen wie RechEmpfhatEMail, RechEmpfhatMobil und RechEmpfmitGeburtstag fehlen relativ oft, was darauf schließen lässt, dass Kunden diese Daten möglicherweise nicht immer angeben oder dass die Erfassung dieser Informationen nicht konsequent durchgeführt wird.\n",
    "\n",
    "4. Muster in den fehlenden Daten:\n",
    "Die grafische Darstellung zeigt eindeutige Muster, in denen bestimmte Zeilenbereiche über viele Spalten hinweg fehlende Werte aufweisen. Dies könnte auf spezifische Vorgänge oder Datensätze hinweisen, bei denen systematisch Informationen fehlen.\n",
    "\n",
    "5. Zeitbezogene Daten und ihre Inkonsistenzen:\n",
    "Spalten wie Beleggedrucktam und Belegerstelltam weisen eine erhebliche Anzahl an fehlenden Werten auf. Dies deutet auf möglicherweise technische Probleme oder manuelle Eingabefehler hin."
   ]
  },
  {
   "cell_type": "markdown",
   "metadata": {},
   "source": [
    "# Duplikate in den Daten"
   ]
  },
  {
   "cell_type": "markdown",
   "metadata": {},
   "source": [
    "### Duplikate der Tabelle df_Verrechnung"
   ]
  },
  {
   "cell_type": "code",
   "execution_count": 17,
   "metadata": {},
   "outputs": [
    {
     "name": "stdout",
     "output_type": "stream",
     "text": [
      "Anzahl der Duplikate in df_Verrechnung: 94\n",
      "Duplikate in der Tabelle df_Verrechnung:\n",
      "                                    LocalID AWArt          AWArt_Bez VKPreis  \\\n",
      "485    0C422A52-8DA6-4128-A9A9-FC4047D2BF30   NaN    Zubehörarbeiten    6,00   \n",
      "486    0C422A52-8DA6-4128-A9A9-FC4047D2BF30   NaN    Zubehörarbeiten    6,00   \n",
      "491    0C422A52-8DA6-4128-A9A9-FC4047D2BF30   NaN    Zubehörarbeiten    6,00   \n",
      "492    0C422A52-8DA6-4128-A9A9-FC4047D2BF30   NaN    Zubehörarbeiten    6,00   \n",
      "1171   190B15A6-397A-420B-A60B-2F5219441119   NaN          Werkstatt    8,50   \n",
      "...                                     ...   ...                ...     ...   \n",
      "11539  F87A293C-E22D-452F-8BA8-45231838C19C    LA    Lackierarbeiten  120,00   \n",
      "11540  F87A293C-E22D-452F-8BA8-45231838C19C    WS  Werkstattarbeiten   67,23   \n",
      "11541  F87A293C-E22D-452F-8BA8-45231838C19C    WS  Werkstattarbeiten   67,23   \n",
      "11542  F87A293C-E22D-452F-8BA8-45231838C19C    ZB    Zubehörarbeiten   67,23   \n",
      "11543  F87A293C-E22D-452F-8BA8-45231838C19C    ZB    Zubehörarbeiten   67,23   \n",
      "\n",
      "      VKPreis_Brutto EKPreis AWMinuten               c_date  \n",
      "485             7,14    0,00      6,00  01.07.2023 11:31:44  \n",
      "486             7,14    0,00      6,00  01.07.2023 11:31:44  \n",
      "491             7,14    0,00      6,00  01.08.2023 08:34:30  \n",
      "492             7,14    0,00      6,00  01.08.2023 08:34:30  \n",
      "1171           10,12    0,00      6,00  01.07.2023 09:17:10  \n",
      "...              ...     ...       ...                  ...  \n",
      "11539         142,80  120,00     60,00  04.08.2023 09:01:46  \n",
      "11540          80,00   67,23     60,00  04.08.2023 09:01:46  \n",
      "11541          80,00   67,23     60,00  04.08.2023 09:01:46  \n",
      "11542          80,00   67,23     60,00  04.08.2023 09:01:46  \n",
      "11543          80,00   67,23     60,00  04.08.2023 09:01:46  \n",
      "\n",
      "[94 rows x 8 columns]\n"
     ]
    }
   ],
   "source": [
    "# Finde alle Duplikate\n",
    "duplikate = df_Verrechnung[df_Verrechnung.duplicated(keep=False)]\n",
    "\n",
    "# Zeige die Anzahl der Duplikate an\n",
    "print(f\"Anzahl der Duplikate in df_Verrechnung: {duplikate.shape[0]}\")\n",
    "\n",
    "# Zeige die Duplikate an\n",
    "if not duplikate.empty:\n",
    "    print(\"Duplikate in der Tabelle df_Verrechnung:\")\n",
    "    print(duplikate)\n",
    "else:\n",
    "    print(\"Keine Duplikate gefunden.\")"
   ]
  },
  {
   "cell_type": "markdown",
   "metadata": {},
   "source": [
    "### Duplikate der Tabelle df_Belege"
   ]
  },
  {
   "cell_type": "code",
   "execution_count": 18,
   "metadata": {},
   "outputs": [
    {
     "name": "stdout",
     "output_type": "stream",
     "text": [
      "Anzahl der Duplikate in df_Belege: 280\n",
      "Duplikate in der Tabelle df_Belege:\n",
      "                                  ï»¿LocalID BELEG_ART  BELEGDATUM  KTypNr  \\\n",
      "1809    025681CB-09C5-4A79-A3E2-5D74D2DD5B7F         R  20220712.0   15507   \n",
      "1810    025681CB-09C5-4A79-A3E2-5D74D2DD5B7F         R  20220712.0   15507   \n",
      "1957    025681CB-09C5-4A79-A3E2-5D74D2DD5B7F         R  20221022.0   16283   \n",
      "1961    025681CB-09C5-4A79-A3E2-5D74D2DD5B7F         R  20221022.0   16283   \n",
      "3337    049E72E0-DFC3-47AA-A1EC-BCE82C0D2D20         R  20230622.0   53300   \n",
      "...                                      ...       ...         ...     ...   \n",
      "103410  C5B1DFB7-8FB7-499E-93C8-703FAF9FB44F         R  20030403.0     785   \n",
      "103863  C5B1DFB7-8FB7-499E-93C8-703FAF9FB44F         R  20051126.0   18692   \n",
      "103864  C5B1DFB7-8FB7-499E-93C8-703FAF9FB44F         R  20051126.0   18692   \n",
      "104311  C5D8539A-10D1-4BCC-97D9-E0520C8F8221         R  20230608.0   32274   \n",
      "104313  C5D8539A-10D1-4BCC-97D9-E0520C8F8221         R  20230608.0   32274   \n",
      "\n",
      "       Fzg_Hersteller  ERSTZULASSUNG  KMSTAND POS_ART                   TEXT1  \\\n",
      "1809             AUDI     20030428.0   246782       E  LENKER, RADAUFHÆNGUNG   \n",
      "1810             AUDI     20030428.0   246782       E  LENKER, RADAUFHÆNGUNG   \n",
      "1957          HYUNDAI     20160404.0    35478       E             BREMSSATTEL   \n",
      "1961          HYUNDAI     20160404.0    35478       E             BREMSSATTEL   \n",
      "3337            DACIA     20151005.0   136726       E                Dichtung   \n",
      "...               ...            ...      ...     ...                     ...   \n",
      "103410           FORD     19891024.0    35676       A  radlager hi. lks. ern.   \n",
      "103863           FORD     20071219.0        0       E            Reifenventil   \n",
      "103864           FORD     20071219.0        0       E            Reifenventil   \n",
      "104311             VW     20110418.0   156767       E        Kegelrollenlager   \n",
      "104313             VW     20110418.0   156767       E        Kegelrollenlager   \n",
      "\n",
      "        GENARTNR  ... RechEmpfPLZ RechEmpfAnrede RechEmpfhatEMail  \\\n",
      "1809       273.0  ...       96352           Herr             NEIN   \n",
      "1810       273.0  ...       96352           Herr             NEIN   \n",
      "1957        78.0  ...       96349           Herr             NEIN   \n",
      "1961        78.0  ...       96349           Herr             NEIN   \n",
      "3337      1451.0  ...       27639          Herrn             NEIN   \n",
      "...          ...  ...         ...            ...              ...   \n",
      "103410       NaN  ...       67122            NaN             NEIN   \n",
      "103863   10354.0  ...       68782            NaN              NaN   \n",
      "103864   10354.0  ...       68782            NaN              NaN   \n",
      "104311   11211.0  ...       49610          Herrn             NEIN   \n",
      "104313   11211.0  ...       49610          Herrn             NEIN   \n",
      "\n",
      "       RechEmpfhatMobil  RechEmpfmitGeburtstag Belegerstelltam  \\\n",
      "1809               NEIN                   NEIN      20220703.0   \n",
      "1810               NEIN                   NEIN      20220703.0   \n",
      "1957               NEIN                   NEIN      20221013.0   \n",
      "1961               NEIN                   NEIN      20221013.0   \n",
      "3337               NEIN                   NEIN      20230606.0   \n",
      "...                 ...                    ...             ...   \n",
      "103410             NEIN                   NEIN             NaN   \n",
      "103863              NaN                    NaN             NaN   \n",
      "103864              NaN                    NaN             NaN   \n",
      "104311               JA                   NEIN      20230531.0   \n",
      "104313               JA                   NEIN      20230531.0   \n",
      "\n",
      "        Beleggedrucktam hatbelegversicherdaten RechEmpfistVersichert  \\\n",
      "1809         20220717.0                   NEIN                  NEIN   \n",
      "1810         20220717.0                   NEIN                  NEIN   \n",
      "1957         20221026.0                   NEIN                  NEIN   \n",
      "1961         20221026.0                   NEIN                  NEIN   \n",
      "3337         20230622.0                   NEIN                  NEIN   \n",
      "...                 ...                    ...                   ...   \n",
      "103410              NaN                   NEIN                  NEIN   \n",
      "103863              NaN                   NEIN                  NEIN   \n",
      "103864              NaN                   NEIN                  NEIN   \n",
      "104311       20230608.0                   NEIN                  NEIN   \n",
      "104313       20230608.0                   NEIN                  NEIN   \n",
      "\n",
      "        Programmvariant  \n",
      "1809              100.0  \n",
      "1810              100.0  \n",
      "1957              100.0  \n",
      "1961              100.0  \n",
      "3337              100.0  \n",
      "...                 ...  \n",
      "103410            100.0  \n",
      "103863            100.0  \n",
      "103864            100.0  \n",
      "104311            100.0  \n",
      "104313            100.0  \n",
      "\n",
      "[280 rows x 30 columns]\n"
     ]
    }
   ],
   "source": [
    "# Finde alle Duplikate\n",
    "duplikate = df_Belege[df_Belege.duplicated(keep=False)]\n",
    "\n",
    "# Zeige die Anzahl der Duplikate an\n",
    "print(f\"Anzahl der Duplikate in df_Belege: {duplikate.shape[0]}\")\n",
    "\n",
    "# Zeige die Duplikate an\n",
    "if not duplikate.empty:\n",
    "    print(\"Duplikate in der Tabelle df_Belege:\")\n",
    "    print(duplikate)\n",
    "else:\n",
    "    print(\"Keine Duplikate gefunden.\")"
   ]
  },
  {
   "cell_type": "markdown",
   "metadata": {},
   "source": [
    "Auffäligkeiten:\n",
    "\n",
    "1. Die LocalID sollte theoretisch ein einzigartiger Schlüssel für jede Werkstatt sein. Wenn es mehrere Zeilen mit derselben LocalID und identischen anderen Werten gibt, deutet dies auf eine fehlerhafte Datenerfassung hin.\n",
    "\n",
    "2. Duplikate beinhalten keine nützlichen Informationen und sollten daher entfernt werden, um die Datenintegrität zu wahren."
   ]
  },
  {
   "cell_type": "markdown",
   "metadata": {},
   "source": [
    "### Duplikate der Tabelle df_Verrechnung entfernen"
   ]
  },
  {
   "cell_type": "code",
   "execution_count": 19,
   "metadata": {},
   "outputs": [
    {
     "name": "stdout",
     "output_type": "stream",
     "text": [
      "Anzahl der Einträge in der Tabelle mit Duplikaten:  12064 , und Anzahl der Einträge in der Tabelle ohne Duplikaten:  12011\n"
     ]
    }
   ],
   "source": [
    "# Entferne Duplikate, behalte die erste Instanz (hier wird die df_Verrechnung_dt verwendet, mit bereits angepassten Datentypen)\n",
    "df_Verrechnung_cleaned = df_Verrechnung_dt.drop_duplicates()\n",
    "\n",
    "print(\"Anzahl der Einträge in der Tabelle mit Duplikaten: \", df_Verrechnung_dt.shape[0] , \", und Anzahl der Einträge in der Tabelle ohne Duplikaten: \", df_Verrechnung_cleaned.shape[0])"
   ]
  },
  {
   "cell_type": "markdown",
   "metadata": {},
   "source": [
    "### Duplikate der Tabelle df_Belege entfernen"
   ]
  },
  {
   "cell_type": "code",
   "execution_count": 20,
   "metadata": {},
   "outputs": [
    {
     "name": "stdout",
     "output_type": "stream",
     "text": [
      "Anzahl der Einträge in der Tabelle mit Duplikaten:  104500 , und Anzahl der Einträge in der Tabelle ohne Duplikaten:  104166\n"
     ]
    }
   ],
   "source": [
    "# Entferne Duplikate, behalte die erste Instanz (hier wird die df_Belege_dt verwendet, mit bereits angepassten Datentypen)\n",
    "df_Belege_cleaned = df_Belege_dt.drop_duplicates()\n",
    "\n",
    "print(\"Anzahl der Einträge in der Tabelle mit Duplikaten: \", df_Belege_dt.shape[0] , \", und Anzahl der Einträge in der Tabelle ohne Duplikaten: \", df_Belege_cleaned.shape[0])"
   ]
  },
  {
   "cell_type": "markdown",
   "metadata": {},
   "source": [
    "#Verteilung den Daten"
   ]
  },
  {
   "cell_type": "markdown",
   "metadata": {},
   "source": [
    "### Folgende Diagramme sind für die Darstellung folgenden Daten geeignet:\n",
    "\n",
    "1. Für Kategorische Daten:\n",
    "    1. Balkendiagramm: Gut geeignet, um die Häufigkeit von Kategorien zu zeigen.\n",
    "    2. Kreisdiagramm: Kann verwendet werden, wenn es nicht zu viele Kategorien gibt.\n",
    "2. Für Numerische Daten:    \n",
    "    1. Histogramm: Zeigt die Verteilung von numerischen Daten.\n",
    "    2. Boxplot: Kann verwendet werden, um Ausreißer und die Verteilung von Quartilen zu identifizieren."
   ]
  },
  {
   "cell_type": "markdown",
   "metadata": {},
   "source": [
    "##Für df_Verrchnung \n",
    "(für alle Darstellung wird das df mit bereits entferneten Duplikaten und angepassten Datentypen genutzt)"
   ]
  },
  {
   "cell_type": "code",
   "execution_count": 21,
   "metadata": {},
   "outputs": [
    {
     "data": {
      "image/png": "[encoded data removed]",
      "text/plain": [
       "<Figure size 1440x360 with 1 Axes>"
      ]
     },
     "metadata": {
      "needs_background": "light"
     },
     "output_type": "display_data"
    },
    {
     "data": {
      "image/png": "[encoded data removed]",
      "text/plain": [
       "<Figure size 1440x360 with 1 Axes>"
      ]
     },
     "metadata": {
      "needs_background": "light"
     },
     "output_type": "display_data"
    },
    {
     "data": {
      "image/png": "[encoded data removed]",
      "text/plain": [
       "<Figure size 1440x360 with 1 Axes>"
      ]
     },
     "metadata": {
      "needs_background": "light"
     },
     "output_type": "display_data"
    },
    {
     "data": {
      "image/png": "[encoded data removed]",
      "text/plain": [
       "<Figure size 1440x360 with 1 Axes>"
      ]
     },
     "metadata": {
      "needs_background": "light"
     },
     "output_type": "display_data"
    },
    {
     "data": {
      "image/png": "[encoded data removed]",
      "text/plain": [
       "<Figure size 1440x360 with 1 Axes>"
      ]
     },
     "metadata": {
      "needs_background": "light"
     },
     "output_type": "display_data"
    }
   ],
   "source": [
    "num_attributes = ['VKPreis', 'VKPreis_Brutto', 'EKPreis', 'AWMinuten']\n",
    "\n",
    "for attribute in num_attributes:\n",
    "    plt.figure(figsize=(20, 5))\n",
    "    sns.histplot(df_Verrechnung_cleaned[attribute].dropna(), kde=False, bins=20)  # KDE auf False setzen, wenn man keine Dichteschätzung braucht\n",
    "    plt.title(f'Verteilung von {attribute}')\n",
    "    plt.xlabel(attribute)\n",
    "    plt.ylabel('Anzahl')\n",
    "    plt.show()\n",
    "\n",
    "# Erstelle explizit eine Kopie des DataFrame, um die Warnung zu vermeiden\n",
    "df_Verrechnung_cleaned = df_Verrechnung_dt.drop_duplicates().copy()\n",
    "\n",
    "# Füge eine neue Spalte hinzu, die den Monat des Datums enthält\n",
    "df_Verrechnung_cleaned['c_date_month'] = df_Verrechnung_cleaned['c_date'].dt.to_period('M')\n",
    "\n",
    "# Visualisiere die Anzahl der Einträge pro Monat\n",
    "plt.figure(figsize=(20, 5))\n",
    "df_Verrechnung_cleaned['c_date_month'].value_counts().sort_index().plot(kind='bar')\n",
    "plt.title('Anzahl der Einträge pro Monat')\n",
    "plt.xlabel('Monat')\n",
    "plt.ylabel('Anzahl')\n",
    "plt.show()"
   ]
  },
  {
   "cell_type": "markdown",
   "metadata": {},
   "source": [
    "Auffäligkeiten:\n",
    "\n",
    "1. Verteilung von VKPreis: Dieses Histogramm zeigt eine rechtschiefe Verteilung, was bedeutet, dass die meisten Datenpunkte auf der linken Seite des Diagramms liegen. Es gibt eine hohe Häufigkeit im niedrigsten Preissegment, was darauf hindeutet, dass die meisten Verkaufspreise relativ niedrig sind.\n",
    "\n",
    "2. Verteilung von VKPreis, Brutto: Ähnlich wie das erste Diagramm zeigt auch dieses eine rechtschiefe Verteilung der Bruttoverkaufspreise.\n",
    "\n",
    "3. Verteilung von EKPreis: Dieses Histogramm zeigt eine sehr spitze Verteilung mit einer extrem hohen Häufigkeit im niedrigsten Preissegment und fast keinen Datenpunkten in den höheren Preisbereichen. Dies deutet darauf hin, dass fast alle Einkaufspreise sehr niedrig sind.\n",
    "\n",
    "4. Verteilung von AVMinuten: Das letzte Diagramm zeigt eine bimodale Verteilung mit zwei Spitzen: eine sehr hohe im niedrigsten Bereich und eine weitere, deutlich niedrigere Spitze im höchsten Bereich der Datenpunkte. Dies könnte darauf hindeuten, dass es zwei häufige Zeiten gibt, die für eine bestimmte Aktivität aufgewendet werden.\n",
    "\n",
    "5. Die meiste Verrechnungssätze werden in den ersten 3 Monaten des Jahres erstellt, gegen Ende des jahres nimmt die Erstellung des Verrechnungssätzen deutlich ab."
   ]
  },
  {
   "cell_type": "markdown",
   "metadata": {},
   "source": [
    "##Für df_Belege"
   ]
  },
  {
   "cell_type": "code",
   "execution_count": 27,
   "metadata": {},
   "outputs": [
    {
     "data": {
      "image/png": "[encoded data removed]",
      "text/plain": [
       "<Figure size 1440x360 with 1 Axes>"
      ]
     },
     "metadata": {
      "needs_background": "light"
     },
     "output_type": "display_data"
    },
    {
     "data": {
      "image/png": "[encoded data removed]",
      "text/plain": [
       "<Figure size 1440x360 with 1 Axes>"
      ]
     },
     "metadata": {
      "needs_background": "light"
     },
     "output_type": "display_data"
    },
    {
     "data": {
      "image/png": "[encoded data removed]",
      "text/plain": [
       "<Figure size 1440x360 with 1 Axes>"
      ]
     },
     "metadata": {
      "needs_background": "light"
     },
     "output_type": "display_data"
    },
    {
     "data": {
      "image/png": "[encoded data removed]",
      "text/plain": [
       "<Figure size 1440x360 with 1 Axes>"
      ]
     },
     "metadata": {
      "needs_background": "light"
     },
     "output_type": "display_data"
    },
    {
     "data": {
      "image/png": "[encoded data removed]",
      "text/plain": [
       "<Figure size 1440x360 with 1 Axes>"
      ]
     },
     "metadata": {
      "needs_background": "light"
     },
     "output_type": "display_data"
    },
    {
     "data": {
      "image/png": "[encoded data removed]",
      "text/plain": [
       "<Figure size 1440x360 with 1 Axes>"
      ]
     },
     "metadata": {
      "needs_background": "light"
     },
     "output_type": "display_data"
    },
    {
     "data": {
      "image/png": "[encoded data removed]",
      "text/plain": [
       "<Figure size 1440x360 with 1 Axes>"
      ]
     },
     "metadata": {
      "needs_background": "light"
     },
     "output_type": "display_data"
    },
    {
     "data": {
      "image/png": "[encoded data removed]",
      "text/plain": [
       "<Figure size 1440x360 with 1 Axes>"
      ]
     },
     "metadata": {
      "needs_background": "light"
     },
     "output_type": "display_data"
    },
    {
     "data": {
      "image/png": "[encoded data removed]",
      "text/plain": [
       "<Figure size 1440x360 with 1 Axes>"
      ]
     },
     "metadata": {
      "needs_background": "light"
     },
     "output_type": "display_data"
    },
    {
     "data": {
      "image/png": "[encoded data removed]",
      "text/plain": [
       "<Figure size 1440x360 with 1 Axes>"
      ]
     },
     "metadata": {
      "needs_background": "light"
     },
     "output_type": "display_data"
    }
   ],
   "source": [
    "num_attributes = ['KTypNr', 'KMSTAND', 'GENARTNR', 'Menge', 'VK_Preis', 'MWST_Prozent', 'Minuten_pro_AW', 'PLZ', 'EKPreis', 'Programmvariant']\n",
    "\n",
    "for attribute in num_attributes:\n",
    "    plt.figure(figsize=(20, 5))\n",
    "    sns.histplot(df_Belege_cleaned[attribute].dropna(), kde=False, bins=20)  # KDE auf False setzen, wenn man keine Dichteschätzung braucht\n",
    "    plt.title(f'Belege von {attribute}')\n",
    "    plt.xlabel(attribute)\n",
    "    plt.ylabel('Anzahl')\n",
    "    plt.show()"
   ]
  },
  {
   "cell_type": "markdown",
   "metadata": {},
   "source": [
    "Auffäligkeiten:\n",
    "\n",
    "1. KTypNr (Fahrzeugtyp ID):\n",
    "Die Daten sind rechtsschief verteilt, mit vielen Datenpunkten bei niedrigeren IDs und weniger bei höheren IDs. Es gibt mehrere Spitzen, die auf häufig vorkommende Fahrzeugtypen hinweisen.\n",
    "\n",
    "2. KMSTAND (Kilometerstand):\n",
    "Die Verteilung zeigt, dass die meisten Fahrzeuge einen Kilometerstand in einem bestimmten (sehr kleinen) Bereich haben.\n",
    "\n",
    "3. GENARTNR (ID der Produktgruppe):\n",
    "die Verteilung zeigt, dass einige Produktgruppen viel häufiger als andere verwendet werden.\n",
    "\n",
    "4. Menge:\n",
    "Die Verteilung zeigt, dass bestimmte Mengen (niedrige) häufiger vorkommen, was auf Standardverpackungsgrößen/ übliche Bestellmengen weist hin.\n",
    "\n",
    "5. VK_Preis (Verkaufspreis):\n",
    "Diese Verteilung zeigt eine große Konzentration bei niedrigeren Preisen.\n",
    "\n",
    "6. MWST_Prozent (Mehrwertsteuer):\n",
    "Wenn die Mehrwertsteuersätze standardisiert sind, treten nur wenige verschiedene Prozentwerte auf, was sich in einer geringen Anzahl von Spitzen in der Verteilung zeigt.\n",
    "\n",
    "7. Minuten_pro_AW (Minuten pro Arbeitswert):\n",
    "Die Verteilung zeigt eine Konzentration von Datenpunkten um bestimmte Zeiteinheiten (wenigar als 10 Minuten oder 60 Minuten), was typische Arbeitszeiten für bestimmte Dienstleistungen oder Reparaturen anzeigen könnte.\n",
    "\n",
    "8. EKPreis (Einkaufspreis):\n",
    "Ähnlich wie beim Verkaufspreis zeigt die Verteilung viele niedrige Einkaufspreise und einige Ausreißer bei sehr hohen Preisen.\n",
    "\n",
    "9. Programmvariant (Version des Werkstattprogrammes):\n",
    "Die Verteilung zeigt, dass bestimmte Programmversionen (100) viel häufiger als die anderen vorkommen.\n"
   ]
  }
 ],
 "metadata": {
  "kernelspec": {
   "display_name": "master_bi",
   "language": "python",
   "name": "python3"
  },
  "language_info": {
   "codemirror_mode": {
    "name": "ipython",
    "version": 3
   },
   "file_extension": ".py",
   "mimetype": "text/x-python",
   "name": "python",
   "nbconvert_exporter": "python",
   "pygments_lexer": "ipython3",
   "version": "3.9.7"
  },
  "orig_nbformat": 4
 },
 "nbformat": 4,
 "nbformat_minor": 2
}
